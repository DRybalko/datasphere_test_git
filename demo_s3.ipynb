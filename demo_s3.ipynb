{
 "cells": [
  {
   "cell_type": "code",
   "execution_count": 1,
   "id": "bcf58635",
   "metadata": {
    "cellId": "knis4dtlmxncun7t4kkpzp"
   },
   "outputs": [],
   "source": [
    "import pandas as pd"
   ]
  },
  {
   "cell_type": "code",
   "execution_count": 2,
   "id": "d6593370",
   "metadata": {
    "cellId": "g2whpa7kf2isr1bbfug9j"
   },
   "outputs": [],
   "source": [
    "sentiment = pd.read_csv(\"/home/jupyter/mnt/s3/banking-data/bank-sentiment.csv\")"
   ]
  },
  {
   "cell_type": "code",
   "execution_count": 3,
   "id": "35cd45d7",
   "metadata": {
    "cellId": "6p424372v8fgzrsp6sbyqc"
   },
   "outputs": [],
   "source": [
    "bank_pos_sentiment = sentiment[sentiment['Positive'] > 0.1]"
   ]
  },
  {
   "cell_type": "code",
   "execution_count": 7,
   "id": "3b06f18d",
   "metadata": {
    "cellId": "gl2m0e7i4sbihzm9jk78d"
   },
   "outputs": [],
   "source": [
    "bank_pos_sentiment.to_csv(\"/home/jupyter/mnt/s3/banking-data/positive-sentiment.csv\")"
   ]
  },
  {
   "cell_type": "code",
   "execution_count": 30,
   "id": "f800bb3e",
   "metadata": {
    "cellId": "3n6nnndrmii1yz98kbn5js"
   },
   "outputs": [
    {
     "ename": "KeyboardInterrupt",
     "evalue": "",
     "output_type": "error",
     "traceback": [
      "\u001b[0;31m---------------------------------------------------------------------------\u001b[0m",
      "\u001b[0;31mKeyboardInterrupt\u001b[0m                         Traceback (most recent call last)",
      "\u001b[0;32m<ipython-input-1-bfa2fab4f0da>\u001b[0m in \u001b[0;36m<module>\u001b[0;34m\u001b[0m\n\u001b[1;32m      2\u001b[0m \u001b[0mcounter\u001b[0m \u001b[0;34m=\u001b[0m \u001b[0;36m0\u001b[0m\u001b[0;34m\u001b[0m\u001b[0;34m\u001b[0m\u001b[0m\n\u001b[1;32m      3\u001b[0m \u001b[0;32mwhile\u001b[0m \u001b[0;32mTrue\u001b[0m\u001b[0;34m:\u001b[0m\u001b[0;34m\u001b[0m\u001b[0;34m\u001b[0m\u001b[0m\n\u001b[0;32m----> 4\u001b[0;31m     \u001b[0mcounter\u001b[0m \u001b[0;34m+=\u001b[0m \u001b[0;36m1\u001b[0m\u001b[0;34m\u001b[0m\u001b[0;34m\u001b[0m\u001b[0m\n\u001b[0m\u001b[1;32m      5\u001b[0m \u001b[0;31m#\u001b[0m\u001b[0;34m\u001b[0m\u001b[0;34m\u001b[0m\u001b[0;34m\u001b[0m\u001b[0m\n",
      "\u001b[0;31mKeyboardInterrupt\u001b[0m: "
     ]
    },
    {
     "name": "stdout",
     "output_type": "stream",
     "text": [
      "Background cell scheduled. Waiting for foreground cells to finish commits\n",
      "Preparing c1.4 instance...\n",
      "c1.4 instance is ready, running task...\n",
      "Task is done, waiting for foreground cells to finish...\n",
      "Merging task result to the state\n"
     ]
    }
   ],
   "source": [
    "#pragma async\n",
    "counter = 0\n",
    "while True:\n",
    "    counter += 1"
   ]
  },
  {
   "cell_type": "code",
   "execution_count": null,
   "id": "b096101e",
   "metadata": {
    "cellId": "gvuamqrlvimbjdbfb46rcl"
   },
   "outputs": [],
   "source": []
  }
 ],
 "metadata": {
  "language_info": {
   "codemirror_mode": {
    "name": "ipython",
    "version": 3
   },
   "file_extension": ".py",
   "mimetype": "text/x-python",
   "name": "python",
   "nbconvert_exporter": "python",
   "pygments_lexer": "ipython3",
   "version": "3.7.7"
  },
  "notebookId": "0abb0544-4ea8-4f22-ad52-9984b508c8ad",
  "notebookPath": "Untitled.ipynb"
 },
 "nbformat": 4,
 "nbformat_minor": 5
}
